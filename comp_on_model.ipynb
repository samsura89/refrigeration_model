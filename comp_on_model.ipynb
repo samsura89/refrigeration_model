{
 "cells": [
  {
   "cell_type": "markdown",
   "metadata": {},
   "source": [
    "Notebook showing how the \"duration-of-compressor-being-on\" model was trained, given duration of the door being open, and temperature difference between setpoint (ie., internal temperature) and roomTemp\n",
    "\n",
    "Caveats: \n",
    "\n",
    "1. Setpoint was considered to be internal temperature based on the analysis for the current uuid\n",
    "\n",
    "2. There is a script file which automates the training of the models for each of the 3 uuid files. This notebook is meant to be seen as illustration\n",
    "\n",
    "3. A lot of the code (data prep and wrangling is repeated) which could have been made in to a function, but I ran out of time"
   ]
  },
  {
   "cell_type": "code",
   "execution_count": 1,
   "metadata": {},
   "outputs": [],
   "source": [
    "import pandas as pd\n",
    "import numpy as np\n",
    "import config\n",
    "from datetime import datetime\n",
    "import math\n",
    "import pickle"
   ]
  },
  {
   "cell_type": "code",
   "execution_count": 2,
   "metadata": {},
   "outputs": [],
   "source": [
    "from sklearn.neighbors import KernelDensity\n",
    "from sklearn.model_selection import GridSearchCV\n",
    "from sklearn.model_selection import LeaveOneOut\n",
    "from sklearn.ensemble import RandomForestRegressor\n",
    "from sklearn.ensemble import AdaBoostRegressor\n",
    "from sklearn.model_selection import train_test_split\n",
    "from sklearn import metrics"
   ]
  },
  {
   "cell_type": "code",
   "execution_count": 3,
   "metadata": {},
   "outputs": [
    {
     "name": "stderr",
     "output_type": "stream",
     "text": [
      "c:\\users\\samsu\\appdata\\local\\programs\\python\\python37\\lib\\site-packages\\requests\\__init__.py:91: RequestsDependencyWarning:\n",
      "\n",
      "urllib3 (1.24.1) or chardet (2.3.0) doesn't match a supported version!\n",
      "\n"
     ]
    }
   ],
   "source": [
    "import plotly.graph_objects as go\n",
    "import plotly.express as px\n",
    "from plotly.subplots import make_subplots\n",
    "import matplotlib.pyplot as plt"
   ]
  },
  {
   "cell_type": "markdown",
   "metadata": {},
   "source": [
    "Let us go through how the setpoints change over the usage of the 3 devices"
   ]
  },
  {
   "cell_type": "code",
   "execution_count": 4,
   "metadata": {},
   "outputs": [],
   "source": [
    "file_name = '09ac4a10-7e8e-40f3-a327-1f93a5cf2383.pickle'\n",
    "df = pd.read_pickle(file_name)\n",
    "#df.describe()"
   ]
  },
  {
   "cell_type": "code",
   "execution_count": 5,
   "metadata": {},
   "outputs": [],
   "source": [
    "# flag the instances the door opened\n",
    "df['door_toggle'] =  df['door'] - df['door'].shift(periods=1, fill_value =0)\n",
    "#print(np.unique(df['door_toggle'],return_counts=True))\n",
    "# make a smoothing filter to remove the times when the door is closed, and then suddenly opened again (over each samples)\n",
    "convolution_filter = np.ones_like(np.arange(4))/4\n",
    "df['door_opened_error'] = np.convolve(abs(df['door_toggle']), convolution_filter, mode='same')\n",
    "df.loc[df['door_opened_error']==0.5,'door_toggle']=0\n",
    "# now, door_toggle has only +1 and -1 toggle, specifically one after the other. +1 denotes door open, -1 denotes door closed\n",
    "#print(\"-----\")\n",
    "#print(\"after filtering:\")\n",
    "#print(np.unique(df['door_toggle'],return_counts=True))\n",
    "\n",
    "# flag the instances the compressor turned on\n",
    "df['compressor_toggle'] =  df['compressor'] -  df['compressor'].shift(periods=1, fill_value =0)"
   ]
  },
  {
   "cell_type": "code",
   "execution_count": 6,
   "metadata": {},
   "outputs": [],
   "source": [
    "# calculate the the duration the door was open (using same logic as above)\n",
    "df.loc[df['door_toggle']!=0,'door_open_duration']= df.loc[df['door_toggle']!=0,'timestamp'] - df.loc[df['door_toggle']!=0,'timestamp'].shift(periods=1)"
   ]
  },
  {
   "cell_type": "code",
   "execution_count": 7,
   "metadata": {},
   "outputs": [],
   "source": [
    "#df[df['compressor_toggle']!=0].head()\n",
    "# see if door is always open when compressor is toggled\n",
    "# print(np.unique(df.loc[df['compressor_toggle']==1,'door'], return_counts=True))\n",
    "##(array([1], dtype=int64), array([414], dtype=int64))\n",
    "# Door is always 1 when compressor is toggled on"
   ]
  },
  {
   "cell_type": "code",
   "execution_count": 8,
   "metadata": {},
   "outputs": [
    {
     "data": {
      "text/html": [
       "<div>\n",
       "<style scoped>\n",
       "    .dataframe tbody tr th:only-of-type {\n",
       "        vertical-align: middle;\n",
       "    }\n",
       "\n",
       "    .dataframe tbody tr th {\n",
       "        vertical-align: top;\n",
       "    }\n",
       "\n",
       "    .dataframe thead th {\n",
       "        text-align: right;\n",
       "    }\n",
       "</style>\n",
       "<table border=\"1\" class=\"dataframe\">\n",
       "  <thead>\n",
       "    <tr style=\"text-align: right;\">\n",
       "      <th></th>\n",
       "      <th>compressor</th>\n",
       "      <th>door</th>\n",
       "      <th>roomTemp</th>\n",
       "      <th>setpoint</th>\n",
       "      <th>temp</th>\n",
       "      <th>timestamp</th>\n",
       "      <th>door_toggle</th>\n",
       "      <th>door_opened_error</th>\n",
       "      <th>compressor_toggle</th>\n",
       "      <th>door_open_duration</th>\n",
       "      <th>compressor_on_duration</th>\n",
       "    </tr>\n",
       "  </thead>\n",
       "  <tbody>\n",
       "    <tr>\n",
       "      <th>3196</th>\n",
       "      <td>1</td>\n",
       "      <td>1</td>\n",
       "      <td>70.672697</td>\n",
       "      <td>37</td>\n",
       "      <td>40.139183</td>\n",
       "      <td>2019-01-01 13:19:00</td>\n",
       "      <td>0</td>\n",
       "      <td>0.25</td>\n",
       "      <td>1</td>\n",
       "      <td>NaT</td>\n",
       "      <td>NaT</td>\n",
       "    </tr>\n",
       "    <tr>\n",
       "      <th>3224</th>\n",
       "      <td>0</td>\n",
       "      <td>0</td>\n",
       "      <td>70.491869</td>\n",
       "      <td>37</td>\n",
       "      <td>37.000000</td>\n",
       "      <td>2019-01-01 13:26:00</td>\n",
       "      <td>0</td>\n",
       "      <td>0.00</td>\n",
       "      <td>-1</td>\n",
       "      <td>NaT</td>\n",
       "      <td>00:07:00</td>\n",
       "    </tr>\n",
       "    <tr>\n",
       "      <th>4636</th>\n",
       "      <td>1</td>\n",
       "      <td>1</td>\n",
       "      <td>62.021042</td>\n",
       "      <td>37</td>\n",
       "      <td>40.177120</td>\n",
       "      <td>2019-01-01 19:19:00</td>\n",
       "      <td>0</td>\n",
       "      <td>0.00</td>\n",
       "      <td>1</td>\n",
       "      <td>NaT</td>\n",
       "      <td>05:53:00</td>\n",
       "    </tr>\n",
       "    <tr>\n",
       "      <th>4646</th>\n",
       "      <td>0</td>\n",
       "      <td>0</td>\n",
       "      <td>61.991146</td>\n",
       "      <td>37</td>\n",
       "      <td>37.000000</td>\n",
       "      <td>2019-01-01 19:21:30</td>\n",
       "      <td>0</td>\n",
       "      <td>0.00</td>\n",
       "      <td>-1</td>\n",
       "      <td>NaT</td>\n",
       "      <td>00:02:30</td>\n",
       "    </tr>\n",
       "    <tr>\n",
       "      <th>4718</th>\n",
       "      <td>1</td>\n",
       "      <td>1</td>\n",
       "      <td>61.796863</td>\n",
       "      <td>37</td>\n",
       "      <td>40.163242</td>\n",
       "      <td>2019-01-01 19:39:30</td>\n",
       "      <td>0</td>\n",
       "      <td>0.00</td>\n",
       "      <td>1</td>\n",
       "      <td>NaT</td>\n",
       "      <td>00:18:00</td>\n",
       "    </tr>\n",
       "  </tbody>\n",
       "</table>\n",
       "</div>"
      ],
      "text/plain": [
       "      compressor  door   roomTemp  setpoint       temp           timestamp  \\\n",
       "3196           1     1  70.672697        37  40.139183 2019-01-01 13:19:00   \n",
       "3224           0     0  70.491869        37  37.000000 2019-01-01 13:26:00   \n",
       "4636           1     1  62.021042        37  40.177120 2019-01-01 19:19:00   \n",
       "4646           0     0  61.991146        37  37.000000 2019-01-01 19:21:30   \n",
       "4718           1     1  61.796863        37  40.163242 2019-01-01 19:39:30   \n",
       "\n",
       "      door_toggle  door_opened_error  compressor_toggle door_open_duration  \\\n",
       "3196            0               0.25                  1                NaT   \n",
       "3224            0               0.00                 -1                NaT   \n",
       "4636            0               0.00                  1                NaT   \n",
       "4646            0               0.00                 -1                NaT   \n",
       "4718            0               0.00                  1                NaT   \n",
       "\n",
       "     compressor_on_duration  \n",
       "3196                    NaT  \n",
       "3224               00:07:00  \n",
       "4636               05:53:00  \n",
       "4646               00:02:30  \n",
       "4718               00:18:00  "
      ]
     },
     "execution_count": 8,
     "metadata": {},
     "output_type": "execute_result"
    }
   ],
   "source": [
    "# calculate the the duration the door was open\n",
    "df.loc[df['compressor_toggle']!=0,'compressor_on_duration']= df.loc[df['compressor_toggle']!=0,'timestamp'] - df.loc[df['compressor_toggle']!=0,'timestamp'].shift(periods=1)\n",
    "df[df['compressor_toggle']!=0].head()"
   ]
  },
  {
   "cell_type": "code",
   "execution_count": 9,
   "metadata": {},
   "outputs": [],
   "source": [
    "# let's look into the toggling activity, by keeping only the rows where something was toggled\n",
    "toggle_df = df.loc[np.logical_or(df['compressor_toggle']!=0,df['door_toggle']!=0),:].reset_index()"
   ]
  },
  {
   "cell_type": "code",
   "execution_count": 10,
   "metadata": {},
   "outputs": [],
   "source": [
    "# verify if the temperature inside the fridge and setpoint is the same when the door is opened. \n",
    "# this could affect accuracy\n",
    "toggle_df['result']= toggle_df.loc[toggle_df['door_toggle']==1,'setpoint'] - toggle_df.loc[toggle_df['door_toggle']==1,'temp']\n",
    "\n",
    "#print(toggle_df[toggle_df['door_toggle']==1].shape) \n",
    "#door was opened 421 times\n",
    "\n",
    "#print(toggle_df.loc[np.logical_and(toggle_df['door_toggle']==1,toggle_df['result']==0),:].shape)\n",
    "# temp was equal to setpoint 414 times\n",
    "\n",
    "# toggle_df.loc[np.logical_and(toggle_df['door_toggle']==1,toggle_df['result']!=0),:]\n",
    "# shows that door was shut and opened while compressor was still running. Let's remove those\n",
    "toggle_df = toggle_df.drop(toggle_df.loc[np.logical_and(toggle_df['door_toggle']==1,toggle_df['result']!=0),:].index)\n",
    "\n",
    "#clean up the data by removing the unnecessary columns\n",
    "toggle_df = toggle_df.drop(columns=['result','index'])"
   ]
  },
  {
   "cell_type": "code",
   "execution_count": 11,
   "metadata": {},
   "outputs": [],
   "source": [
    "# get time when door was opened, and the temperature at that time\n",
    "toggle_df.loc[toggle_df['door_toggle']==1,'door_activated_time'] = toggle_df.loc[toggle_df['door_toggle']==1,'timestamp']\n",
    "toggle_df.loc[toggle_df['door_toggle']==1,'door_activated_roomTemp'] = toggle_df.loc[toggle_df['door_toggle']==1,'roomTemp']"
   ]
  },
  {
   "cell_type": "code",
   "execution_count": 12,
   "metadata": {},
   "outputs": [],
   "source": [
    "# forward fill those columns, so that the values are propogated further, thereby resulting in a simple subtraction to find difference in times and temperatures\n",
    "toggle_df['door_activated_time'] = toggle_df['door_activated_time'].fillna(method='ffill') \n",
    "toggle_df['door_activated_roomTemp'] = toggle_df['door_activated_roomTemp'].fillna(method='ffill') \n",
    "toggle_df['door_open_duration'] = toggle_df['door_open_duration'].fillna(method='ffill') \n",
    "toggle_df['delta_temp'] = toggle_df['door_activated_roomTemp'] - toggle_df['setpoint']"
   ]
  },
  {
   "cell_type": "markdown",
   "metadata": {
    "scrolled": false
   },
   "source": [
    "prepare the final dataframe to model the compressor being switched on"
   ]
  },
  {
   "cell_type": "code",
   "execution_count": 13,
   "metadata": {},
   "outputs": [
    {
     "data": {
      "text/html": [
       "<div>\n",
       "<style scoped>\n",
       "    .dataframe tbody tr th:only-of-type {\n",
       "        vertical-align: middle;\n",
       "    }\n",
       "\n",
       "    .dataframe tbody tr th {\n",
       "        vertical-align: top;\n",
       "    }\n",
       "\n",
       "    .dataframe thead th {\n",
       "        text-align: right;\n",
       "    }\n",
       "</style>\n",
       "<table border=\"1\" class=\"dataframe\">\n",
       "  <thead>\n",
       "    <tr style=\"text-align: right;\">\n",
       "      <th></th>\n",
       "      <th>timestamp</th>\n",
       "      <th>delta_temp</th>\n",
       "      <th>door_open_duration</th>\n",
       "      <th>compressor_on_duration</th>\n",
       "    </tr>\n",
       "  </thead>\n",
       "  <tbody>\n",
       "    <tr>\n",
       "      <th>409</th>\n",
       "      <td>2019-04-30 13:35:00</td>\n",
       "      <td>33.374335</td>\n",
       "      <td>120.0</td>\n",
       "      <td>240.0</td>\n",
       "    </tr>\n",
       "    <tr>\n",
       "      <th>410</th>\n",
       "      <td>2019-04-30 13:44:45</td>\n",
       "      <td>33.136451</td>\n",
       "      <td>150.0</td>\n",
       "      <td>285.0</td>\n",
       "    </tr>\n",
       "    <tr>\n",
       "      <th>411</th>\n",
       "      <td>2019-04-30 14:18:00</td>\n",
       "      <td>32.209785</td>\n",
       "      <td>120.0</td>\n",
       "      <td>240.0</td>\n",
       "    </tr>\n",
       "    <tr>\n",
       "      <th>412</th>\n",
       "      <td>2019-04-30 19:48:00</td>\n",
       "      <td>24.747237</td>\n",
       "      <td>105.0</td>\n",
       "      <td>150.0</td>\n",
       "    </tr>\n",
       "    <tr>\n",
       "      <th>413</th>\n",
       "      <td>2019-04-30 20:11:30</td>\n",
       "      <td>24.587966</td>\n",
       "      <td>270.0</td>\n",
       "      <td>360.0</td>\n",
       "    </tr>\n",
       "  </tbody>\n",
       "</table>\n",
       "</div>"
      ],
      "text/plain": [
       "              timestamp  delta_temp  door_open_duration  \\\n",
       "409 2019-04-30 13:35:00   33.374335               120.0   \n",
       "410 2019-04-30 13:44:45   33.136451               150.0   \n",
       "411 2019-04-30 14:18:00   32.209785               120.0   \n",
       "412 2019-04-30 19:48:00   24.747237               105.0   \n",
       "413 2019-04-30 20:11:30   24.587966               270.0   \n",
       "\n",
       "     compressor_on_duration  \n",
       "409                   240.0  \n",
       "410                   285.0  \n",
       "411                   240.0  \n",
       "412                   150.0  \n",
       "413                   360.0  "
      ]
     },
     "execution_count": 13,
     "metadata": {},
     "output_type": "execute_result"
    }
   ],
   "source": [
    "final_df = toggle_df.loc[toggle_df['compressor_toggle']==-1,['timestamp','delta_temp',\n",
    "                                                             'door_open_duration',\n",
    "                                                             'compressor_on_duration']].reset_index(drop=True)\n",
    "#final_df['dates'] = final_df['timestamp'].dt.date\n",
    "#final_df['hour'] = final_df['timestamp'].dt.hour\n",
    "final_df['door_open_duration'] = final_df['door_open_duration'].dt.total_seconds()\n",
    "final_df['compressor_on_duration'] = final_df['compressor_on_duration'].dt.total_seconds()\n",
    "final_df.tail()"
   ]
  },
  {
   "cell_type": "code",
   "execution_count": 14,
   "metadata": {},
   "outputs": [
    {
     "data": {
      "text/plain": [
       "0.9035166562407311"
      ]
     },
     "execution_count": 14,
     "metadata": {},
     "output_type": "execute_result"
    }
   ],
   "source": [
    "from sklearn.linear_model import LinearRegression\n",
    "reg = LinearRegression().fit(final_df[['door_open_duration','delta_temp']], final_df['compressor_on_duration'])\n",
    "reg.score(final_df[['door_open_duration','delta_temp']], final_df['compressor_on_duration'])"
   ]
  },
  {
   "cell_type": "code",
   "execution_count": 15,
   "metadata": {},
   "outputs": [],
   "source": [
    "# Split the data into training and testing sets\n",
    "train_features, test_features, train_labels, test_labels = train_test_split(final_df[['door_open_duration','delta_temp']], \n",
    "                                                                            final_df['compressor_on_duration'], \n",
    "                                                                            test_size = 0.2,\n",
    "                                                                            random_state = 4)"
   ]
  },
  {
   "cell_type": "code",
   "execution_count": 16,
   "metadata": {},
   "outputs": [
    {
     "name": "stdout",
     "output_type": "stream",
     "text": [
      "Training Features Shape: (331, 2)\n",
      "Training Labels Shape: (331,)\n",
      "Testing Features Shape: (83, 2)\n",
      "Testing Labels Shape: (83,)\n"
     ]
    }
   ],
   "source": [
    "print('Training Features Shape:', train_features.shape)\n",
    "print('Training Labels Shape:', train_labels.shape)\n",
    "print('Testing Features Shape:', test_features.shape)\n",
    "print('Testing Labels Shape:', test_labels.shape)"
   ]
  },
  {
   "cell_type": "code",
   "execution_count": 17,
   "metadata": {},
   "outputs": [],
   "source": [
    "from sklearn.preprocessing import StandardScaler\n",
    "train_features = StandardScaler().fit_transform(train_features)\n",
    "test_features = StandardScaler().fit_transform(test_features)"
   ]
  },
  {
   "cell_type": "code",
   "execution_count": 18,
   "metadata": {},
   "outputs": [
    {
     "name": "stdout",
     "output_type": "stream",
     "text": [
      "Mean Absolute Error: 17.68807228915663\n",
      "Mean Squared Error: 1665.2193668674704\n",
      "Root Mean Squared Error: 40.80709946648341\n",
      "R2 value: 0.8806266412101857\n"
     ]
    }
   ],
   "source": [
    "# Instantiate model with 1000 decision trees\n",
    "rf_reg = RandomForestRegressor(n_estimators = 1000)\n",
    "# Train the model on training data\n",
    "rf_reg.fit(train_features, train_labels)\n",
    "# Use the forest's predict method on the test data\n",
    "rf_reg_predictions = rf_reg.predict(test_features)\n",
    "# Performance metrics\n",
    "rf_reg_errors = abs(rf_reg_predictions - test_labels)\n",
    "# print performance evaluations\n",
    "print('Mean Absolute Error:', metrics.mean_absolute_error(test_labels, rf_reg_predictions))\n",
    "print('Mean Squared Error:', metrics.mean_squared_error(test_labels, rf_reg_predictions))\n",
    "print('Root Mean Squared Error:', np.sqrt(metrics.mean_squared_error(test_labels, rf_reg_predictions)))\n",
    "print('R2 value:', rf_reg.score(test_features, test_labels))"
   ]
  },
  {
   "cell_type": "code",
   "execution_count": 19,
   "metadata": {},
   "outputs": [
    {
     "name": "stdout",
     "output_type": "stream",
     "text": [
      "Mean Absolute Error: 17.239156626506027\n",
      "Mean Squared Error: 1626.8321385542172\n",
      "Root Mean Squared Error: 40.33400722162648\n",
      "R2 value: 0.883378478277157\n"
     ]
    }
   ],
   "source": [
    "# Perform Grid-Search\n",
    "\n",
    "search = GridSearchCV(\n",
    "    estimator=RandomForestRegressor(),\n",
    "    param_grid={\n",
    "        'max_depth': [5,10,20],\n",
    "        'n_estimators': [100, 500, 1000, 2000],\n",
    "    },\n",
    "    cv=5,n_jobs=-1)\n",
    "\n",
    "search_result = search.fit(train_features, train_features)\n",
    "best_params = search_result.best_params_\n",
    "\n",
    "rf_search = RandomForestRegressor(max_depth=best_params[\"max_depth\"], \n",
    "                            n_estimators=best_params[\"n_estimators\"])\n",
    "\n",
    "# Train the model on training data\n",
    "rf_search.fit(train_features, train_labels)\n",
    "\n",
    "# Use the forest's predict method on the test data\n",
    "rf_search_predictions = rf_search.predict(test_features)\n",
    "# Performance metrics\n",
    "print('Mean Absolute Error:', metrics.mean_absolute_error(test_labels, rf_search_predictions))\n",
    "print('Mean Squared Error:', metrics.mean_squared_error(test_labels, rf_search_predictions))\n",
    "print('Root Mean Squared Error:', np.sqrt(metrics.mean_squared_error(test_labels, rf_search_predictions)))\n",
    "print('R2 value:', rf_search.score(test_features, test_labels))"
   ]
  },
  {
   "cell_type": "markdown",
   "metadata": {},
   "source": [
    "Looks like linear regression might be a better fit than the random forests. Would have done more visualizations and verifications if there were more time"
   ]
  },
  {
   "cell_type": "markdown",
   "metadata": {},
   "source": [
    "If there was more time, I would have also added a loop to go through and pick the best amongst regression, random forests or neural nets"
   ]
  },
  {
   "cell_type": "code",
   "execution_count": 20,
   "metadata": {},
   "outputs": [
    {
     "ename": "NameError",
     "evalue": "name 'grid_result' is not defined",
     "output_type": "error",
     "traceback": [
      "\u001b[1;31m---------------------------------------------------------------------------\u001b[0m",
      "\u001b[1;31mNameError\u001b[0m                                 Traceback (most recent call last)",
      "\u001b[1;32m<ipython-input-20-bb38a873ca4e>\u001b[0m in \u001b[0;36m<module>\u001b[1;34m\u001b[0m\n\u001b[1;32m----> 1\u001b[1;33m \u001b[0mpickle\u001b[0m\u001b[1;33m.\u001b[0m\u001b[0mdump\u001b[0m\u001b[1;33m(\u001b[0m\u001b[0mgrid_result\u001b[0m\u001b[1;33m,\u001b[0m \u001b[0mopen\u001b[0m\u001b[1;33m(\u001b[0m\u001b[0mstr\u001b[0m\u001b[1;33m(\u001b[0m\u001b[0mfile_name\u001b[0m\u001b[1;33m[\u001b[0m\u001b[1;33m:\u001b[0m\u001b[1;33m-\u001b[0m\u001b[1;36m7\u001b[0m\u001b[1;33m]\u001b[0m\u001b[1;33m+\u001b[0m\u001b[1;34m'_reg_params.pickle'\u001b[0m\u001b[1;33m)\u001b[0m\u001b[1;33m,\u001b[0m \u001b[1;34m'wb'\u001b[0m\u001b[1;33m)\u001b[0m\u001b[1;33m)\u001b[0m\u001b[1;33m\u001b[0m\u001b[0m\n\u001b[0m",
      "\u001b[1;31mNameError\u001b[0m: name 'grid_result' is not defined"
     ]
    }
   ],
   "source": [
    "pickle.dump(grid_result, open(str(file_name[:-7]+'_reg_params.pickle'), 'wb'))"
   ]
  }
 ],
 "metadata": {
  "kernelspec": {
   "display_name": "Python 3",
   "language": "python",
   "name": "python3"
  },
  "language_info": {
   "codemirror_mode": {
    "name": "ipython",
    "version": 3
   },
   "file_extension": ".py",
   "mimetype": "text/x-python",
   "name": "python",
   "nbconvert_exporter": "python",
   "pygments_lexer": "ipython3",
   "version": "3.7.0"
  }
 },
 "nbformat": 4,
 "nbformat_minor": 1
}
