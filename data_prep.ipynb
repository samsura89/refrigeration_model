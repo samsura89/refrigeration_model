{
 "cells": [
  {
   "cell_type": "code",
   "execution_count": 1,
   "metadata": {},
   "outputs": [],
   "source": [
    "import pandas as pd\n",
    "import gzip\n",
    "import glob\n",
    "import os\n",
    "import json"
   ]
  },
  {
   "cell_type": "code",
   "execution_count": 2,
   "metadata": {},
   "outputs": [],
   "source": [
    "# get a list of \n",
    "time_list = os.listdir(os.getcwd() + '\\\\data')\n",
    "\n",
    "sample_path = os.getcwd() + '\\\\data\\\\2'\n",
    "\n",
    "uiud_names = []\n",
    "## traverse through a sample folder to get the list of uiud files \n",
    "for r, d, f in os.walk(sample_path):\n",
    "    for file in f:\n",
    "        if '.gz' in file:\n",
    "            # now we have the 3 uiud's\n",
    "            #for folder in time_list:\n",
    "            uiud_names.append(file) "
   ]
  },
  {
   "cell_type": "code",
   "execution_count": 3,
   "metadata": {},
   "outputs": [],
   "source": [
    "for uiud in uiud_names:\n",
    "    uiud_df = pd.DataFrame()\n",
    "    for folder_name in time_list:\n",
    "        file_name = os.getcwd() + '\\\\data\\\\' + folder_name +'\\\\' + uiud\n",
    "        if os.path.isfile(file_name):\n",
    "            with gzip.open(file_name, 'rb') as f:\n",
    "                file_content = f.read()\n",
    "                temp_df = pd.read_json(file_content, lines=True)\n",
    "    uiud_df = uiud_df.append(temp_df)\n",
    "    uiud_df.to_csv((uiud[:-9]+'.csv'),index=False)"
   ]
  },
  {
   "cell_type": "code",
   "execution_count": 5,
   "metadata": {},
   "outputs": [],
   "source": [
    "temp_df.to_pickle('temp.pickle')"
   ]
  },
  {
   "cell_type": "code",
   "execution_count": 6,
   "metadata": {},
   "outputs": [
    {
     "data": {
      "text/html": [
       "<div>\n",
       "<style scoped>\n",
       "    .dataframe tbody tr th:only-of-type {\n",
       "        vertical-align: middle;\n",
       "    }\n",
       "\n",
       "    .dataframe tbody tr th {\n",
       "        vertical-align: top;\n",
       "    }\n",
       "\n",
       "    .dataframe thead th {\n",
       "        text-align: right;\n",
       "    }\n",
       "</style>\n",
       "<table border=\"1\" class=\"dataframe\">\n",
       "  <thead>\n",
       "    <tr style=\"text-align: right;\">\n",
       "      <th></th>\n",
       "      <th>compressor</th>\n",
       "      <th>door</th>\n",
       "      <th>roomTemp</th>\n",
       "      <th>setpoint</th>\n",
       "      <th>temp</th>\n",
       "    </tr>\n",
       "  </thead>\n",
       "  <tbody>\n",
       "    <tr>\n",
       "      <th>count</th>\n",
       "      <td>164036.000000</td>\n",
       "      <td>164036.000000</td>\n",
       "      <td>164036.000000</td>\n",
       "      <td>164036.0</td>\n",
       "      <td>164036.000000</td>\n",
       "    </tr>\n",
       "    <tr>\n",
       "      <th>mean</th>\n",
       "      <td>0.014850</td>\n",
       "      <td>0.014253</td>\n",
       "      <td>60.031710</td>\n",
       "      <td>43.0</td>\n",
       "      <td>43.045404</td>\n",
       "    </tr>\n",
       "    <tr>\n",
       "      <th>std</th>\n",
       "      <td>0.120954</td>\n",
       "      <td>0.118532</td>\n",
       "      <td>2.120565</td>\n",
       "      <td>0.0</td>\n",
       "      <td>0.360667</td>\n",
       "    </tr>\n",
       "    <tr>\n",
       "      <th>min</th>\n",
       "      <td>0.000000</td>\n",
       "      <td>0.000000</td>\n",
       "      <td>57.000000</td>\n",
       "      <td>43.0</td>\n",
       "      <td>43.000000</td>\n",
       "    </tr>\n",
       "    <tr>\n",
       "      <th>25%</th>\n",
       "      <td>0.000000</td>\n",
       "      <td>0.000000</td>\n",
       "      <td>57.899608</td>\n",
       "      <td>43.0</td>\n",
       "      <td>43.000000</td>\n",
       "    </tr>\n",
       "    <tr>\n",
       "      <th>50%</th>\n",
       "      <td>0.000000</td>\n",
       "      <td>0.000000</td>\n",
       "      <td>60.094886</td>\n",
       "      <td>43.0</td>\n",
       "      <td>43.000000</td>\n",
       "    </tr>\n",
       "    <tr>\n",
       "      <th>75%</th>\n",
       "      <td>0.000000</td>\n",
       "      <td>0.000000</td>\n",
       "      <td>62.135159</td>\n",
       "      <td>43.0</td>\n",
       "      <td>43.000000</td>\n",
       "    </tr>\n",
       "    <tr>\n",
       "      <th>max</th>\n",
       "      <td>1.000000</td>\n",
       "      <td>1.000000</td>\n",
       "      <td>63.000000</td>\n",
       "      <td>43.0</td>\n",
       "      <td>47.236860</td>\n",
       "    </tr>\n",
       "  </tbody>\n",
       "</table>\n",
       "</div>"
      ],
      "text/plain": [
       "          compressor           door       roomTemp  setpoint           temp\n",
       "count  164036.000000  164036.000000  164036.000000  164036.0  164036.000000\n",
       "mean        0.014850       0.014253      60.031710      43.0      43.045404\n",
       "std         0.120954       0.118532       2.120565       0.0       0.360667\n",
       "min         0.000000       0.000000      57.000000      43.0      43.000000\n",
       "25%         0.000000       0.000000      57.899608      43.0      43.000000\n",
       "50%         0.000000       0.000000      60.094886      43.0      43.000000\n",
       "75%         0.000000       0.000000      62.135159      43.0      43.000000\n",
       "max         1.000000       1.000000      63.000000      43.0      47.236860"
      ]
     },
     "execution_count": 6,
     "metadata": {},
     "output_type": "execute_result"
    }
   ],
   "source": [
    "df2 = pd.read_pickle('temp.pickle')\n",
    "df2.describe()"
   ]
  },
  {
   "cell_type": "code",
   "execution_count": null,
   "metadata": {},
   "outputs": [],
   "source": []
  }
 ],
 "metadata": {
  "kernelspec": {
   "display_name": "Python 3",
   "language": "python",
   "name": "python3"
  },
  "language_info": {
   "codemirror_mode": {
    "name": "ipython",
    "version": 3
   },
   "file_extension": ".py",
   "mimetype": "text/x-python",
   "name": "python",
   "nbconvert_exporter": "python",
   "pygments_lexer": "ipython3",
   "version": "3.7.0"
  }
 },
 "nbformat": 4,
 "nbformat_minor": 1
}
